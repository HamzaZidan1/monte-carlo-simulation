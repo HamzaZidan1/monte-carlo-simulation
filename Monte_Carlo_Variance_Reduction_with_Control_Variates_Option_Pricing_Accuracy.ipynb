{
  "nbformat": 4,
  "nbformat_minor": 0,
  "metadata": {
    "colab": {
      "provenance": []
    },
    "kernelspec": {
      "name": "python3",
      "display_name": "Python 3"
    },
    "language_info": {
      "name": "python"
    }
  },
  "cells": [
    {
      "cell_type": "markdown",
      "source": [
        "#Monte Carlo Variance Reduction Methods - Control Variates"
      ],
      "metadata": {
        "id": "VTZJhI4xtMaW"
      }
    },
    {
      "cell_type": "code",
      "source": [
        "!pip install py_vollib"
      ],
      "metadata": {
        "colab": {
          "base_uri": "https://localhost:8080/"
        },
        "id": "9G-Z4IrJuFiy",
        "outputId": "14dec2de-f3ec-4d5f-9126-f73ff0aa52f1"
      },
      "execution_count": null,
      "outputs": [
        {
          "output_type": "stream",
          "name": "stdout",
          "text": [
            "Collecting py_vollib\n",
            "  Downloading py_vollib-1.0.1.tar.gz (19 kB)\n",
            "  Preparing metadata (setup.py) ... \u001b[?25l\u001b[?25hdone\n",
            "Collecting py_lets_be_rational (from py_vollib)\n",
            "  Downloading py_lets_be_rational-1.0.1.tar.gz (18 kB)\n",
            "  Preparing metadata (setup.py) ... \u001b[?25l\u001b[?25hdone\n",
            "Collecting simplejson (from py_vollib)\n",
            "  Downloading simplejson-3.19.2-cp310-cp310-manylinux_2_5_x86_64.manylinux1_x86_64.manylinux_2_17_x86_64.manylinux2014_x86_64.whl (137 kB)\n",
            "\u001b[2K     \u001b[90m━━━━━━━━━━━━━━━━━━━━━━━━━━━━━━━━━━━━━━━━\u001b[0m \u001b[32m137.9/137.9 kB\u001b[0m \u001b[31m5.3 MB/s\u001b[0m eta \u001b[36m0:00:00\u001b[0m\n",
            "\u001b[?25hRequirement already satisfied: numpy in /usr/local/lib/python3.10/dist-packages (from py_vollib) (1.25.2)\n",
            "Requirement already satisfied: pandas in /usr/local/lib/python3.10/dist-packages (from py_vollib) (2.0.3)\n",
            "Requirement already satisfied: scipy in /usr/local/lib/python3.10/dist-packages (from py_vollib) (1.11.4)\n",
            "Requirement already satisfied: python-dateutil>=2.8.2 in /usr/local/lib/python3.10/dist-packages (from pandas->py_vollib) (2.8.2)\n",
            "Requirement already satisfied: pytz>=2020.1 in /usr/local/lib/python3.10/dist-packages (from pandas->py_vollib) (2023.4)\n",
            "Requirement already satisfied: tzdata>=2022.1 in /usr/local/lib/python3.10/dist-packages (from pandas->py_vollib) (2024.1)\n",
            "Requirement already satisfied: six>=1.5 in /usr/local/lib/python3.10/dist-packages (from python-dateutil>=2.8.2->pandas->py_vollib) (1.16.0)\n",
            "Building wheels for collected packages: py_vollib, py_lets_be_rational\n",
            "  Building wheel for py_vollib (setup.py) ... \u001b[?25l\u001b[?25hdone\n",
            "  Created wheel for py_vollib: filename=py_vollib-1.0.1-py3-none-any.whl size=62829 sha256=f3ece1a6134d46cfe5b015eaac35690431dabb2d67f02f25268c4cf39071899d\n",
            "  Stored in directory: /root/.cache/pip/wheels/84/0c/fc/b68506eda40cccaeb0013be550ba904d253ec90eae2b156052\n",
            "  Building wheel for py_lets_be_rational (setup.py) ... \u001b[?25l\u001b[?25hdone\n",
            "  Created wheel for py_lets_be_rational: filename=py_lets_be_rational-1.0.1-py3-none-any.whl size=24450 sha256=a514d4dddceea94c07bd4e0e7326646077743834ae5c065f646fe49d44182950\n",
            "  Stored in directory: /root/.cache/pip/wheels/32/d9/4f/360d4b0b9ec7c65583ec7c8e72fd2158c97ad04fbcb932891c\n",
            "Successfully built py_vollib py_lets_be_rational\n",
            "Installing collected packages: simplejson, py_lets_be_rational, py_vollib\n",
            "Successfully installed py_lets_be_rational-1.0.1 py_vollib-1.0.1 simplejson-3.19.2\n"
          ]
        }
      ]
    },
    {
      "cell_type": "code",
      "execution_count": null,
      "metadata": {
        "colab": {
          "base_uri": "https://localhost:8080/"
        },
        "id": "UV4RnQDCtCws",
        "outputId": "11cae2aa-a333-400d-8bb8-d7d9f43468e7"
      },
      "outputs": [
        {
          "output_type": "stream",
          "name": "stderr",
          "text": [
            "/usr/local/lib/python3.10/dist-packages/py_lets_be_rational/numba_helper.py:10: NumbaDeprecationWarning: The 'nopython' keyword argument was not supplied to the 'numba.jit' decorator. The implicit default value for this argument is currently False, but it will be changed to True in Numba 0.59.0. See https://numba.readthedocs.io/en/stable/reference/deprecation.html#deprecation-of-object-mode-fall-back-behaviour-when-using-jit for details.\n",
            "  return jit(*jit_args, **jit_kwargs)(fun)\n"
          ]
        }
      ],
      "source": [
        "#Import dependencies\n",
        "import math\n",
        "import numpy as np\n",
        "import pandas as pd\n",
        "import datetime\n",
        "import scipy.stats as stats\n",
        "import matplotlib.pyplot as plt\n",
        "from py_vollib.black_scholes import implied_volatility as iv\n",
        "from py_vollib.black_scholes import black_scholes as bs\n",
        "from py_vollib.black_scholes.greeks.analytical import vega, delta"
      ]
    },
    {
      "cell_type": "code",
      "source": [
        "# Inital derivative parameters\n",
        "S = 101.15 #Stock Price\n",
        "K = 98.01 #Strike Price\n",
        "vol = 0.0991 #Volatility (%)\n",
        "r = 0.015 #Risk-free rate (%)\n",
        "N = 10 #Number of time steps\n",
        "M = 1000 #Number of simulations\n",
        "\n",
        "market_value = 3.86 #market value of option\n",
        "T = ((datetime.date(2022,3,17)-datetime.date(2022,1,17)).days+1)/365 #time in years\n",
        "print(T)"
      ],
      "metadata": {
        "colab": {
          "base_uri": "https://localhost:8080/"
        },
        "id": "-dl_zPM5tDne",
        "outputId": "767d2415-ff21-4e83-eb09-0db2b7411010"
      },
      "execution_count": null,
      "outputs": [
        {
          "output_type": "stream",
          "name": "stdout",
          "text": [
            "0.1643835616438356\n"
          ]
        }
      ]
    },
    {
      "cell_type": "code",
      "source": [
        "# Precompute constants\n",
        "N = 10\n",
        "dt = T/N\n",
        "nudt = (r-0.5*vol**2)*dt\n",
        "volsdt = vol*np.sqrt(dt)\n",
        "erdt = np.exp(r*dt)\n",
        "\n",
        "beta1 = -1\n",
        "\n",
        "#Standard error placeholders\n",
        "sum_CT = 0\n",
        "sum_CT2 = 0\n",
        "\n",
        "#Monte Carlo Method\n",
        "for i in range(M):\n",
        "  St  = S\n",
        "  cv = 0\n",
        "  for j in range(N):\n",
        "    #Perfectly Negatively Correlated Assets\n",
        "    epsilon = np.random.normal()\n",
        "    deltaST = delta('c', St, K, T-j*dt, r, vol)\n",
        "    Stn = St*np.exp(nudt + volsdt*epsilon)\n",
        "    cv = cv + deltaST*(Stn - St*erdt)\n",
        "    St = Stn\n",
        "\n",
        "  CT = max(0, St - K) + beta1*cv\n",
        "  sum_CT = sum_CT + CT\n",
        "  sum_CT2 = sum_CT2 + CT*CT\n",
        "\n",
        "#Compute Expectations and SE\n",
        "C0 = np.exp(-r*T)*sum_CT/M\n",
        "sigma = np.sqrt( (sum_CT2 - sum_CT*sum_CT/M)*np.exp(-2*r*T)/ (M-1) )\n",
        "SE = sigma/np.sqrt(M)\n",
        "\n",
        "print(\"Call value is ${0} with SE +/- {1}\".format(np.round(C0,2),np.round(SE,3)))"
      ],
      "metadata": {
        "colab": {
          "base_uri": "https://localhost:8080/"
        },
        "id": "3Uktuvj-xhcN",
        "outputId": "65044e40-6218-4e5e-fd5c-45e5fdd07e4e"
      },
      "execution_count": null,
      "outputs": [
        {
          "output_type": "stream",
          "name": "stdout",
          "text": [
            "Call value is $3.83 with SE +/- 0.011\n"
          ]
        }
      ]
    },
    {
      "cell_type": "code",
      "source": [
        "def delta_calc(r, S, K, T, sigma, type=\"c\"):\n",
        "  \"Calculate delta of an option\"\n",
        "  d1 = (np.log(S/K) + (r + sigma**2/2)*T)/(sigma*np.sqrt(T))\n",
        "  try:\n",
        "    if type == \"c\":\n",
        "      delta_calc = stats.norm.cdf(d1, 0, 1)\n",
        "    elif type == \"p\":\n",
        "      delta_calc = -stats.norm.cdf(-d1, 0, 1)\n",
        "    return delta_calc\n",
        "  except:\n",
        "    print(\"Please confirm option type, either 'c for Call or 'p' for Put\")"
      ],
      "metadata": {
        "id": "kbu1-smA0WAx"
      },
      "execution_count": 17,
      "outputs": []
    },
    {
      "cell_type": "code",
      "source": [
        "#precompute constants\n",
        "N = 1\n",
        "dt = T/N\n",
        "nudt = (r - 0.5*vol**2)*dt\n",
        "volsdt = vol*np.sqrt(dt)\n",
        "\n",
        "erdt = np.exp(r*dt)\n",
        "cv = 0\n",
        "beta1 = -1\n",
        "\n",
        "# Monte Carlo Method\n",
        "Z = np.random.normal(size=(N, M))\n",
        "delta_St = nudt + volsdt*Z\n",
        "ST = S*np.cumprod( np.exp(delta_St), axis=0)\n",
        "ST = np.concatenate( (np.full(shape=(1, M), fill_value=S), ST ) )\n",
        "deltaSt = delta_calc(r, ST[:-1].T, K, np.linspace(T,0,N), vol, \"c\").T\n",
        "cv = np.cumsum(deltaSt*(ST[1:] - ST[:-1]*erdt), axis=0)\n",
        "\n",
        "\n",
        "CT = np.maximum(0, ST[-1] - K) + beta1*cv[-1]\n",
        "# CT = np.maximum(0, ST[-1] - K)\n",
        "C0 = np.exp(-r*T)*np.sum(CT)/M\n",
        "\n",
        "sigma = np.sqrt( np.sum( (np.exp(-r*T)*CT - C0)**2) / (M-1) )\n",
        "sigma = np.std(np.exp(-r*T)*CT)\n",
        "SE = sigma/np.sqrt(M)\n",
        "\n",
        "print(\"Call value is ${0} with SE +/- {1}\".format(np.round(C0,2),np.round(SE,3)))"
      ],
      "metadata": {
        "colab": {
          "base_uri": "https://localhost:8080/"
        },
        "id": "o5iflj4J6opc",
        "outputId": "18188e1f-f5d5-436d-ad89-94112cf79930"
      },
      "execution_count": 24,
      "outputs": [
        {
          "output_type": "stream",
          "name": "stdout",
          "text": [
            "Call value is $3.85 with SE +/- 0.029\n"
          ]
        }
      ]
    },
    {
      "cell_type": "code",
      "source": [
        "#precompute constants\n",
        "N = 1\n",
        "dt = T/N\n",
        "nudt = (r - 0.5*vol**2)*dt\n",
        "volsdt = vol*np.sqrt(dt)\n",
        "\n",
        "# Monte Carlo Method\n",
        "Z = np.random.normal(size=(N, M))\n",
        "delta_St = nudt + volsdt*Z\n",
        "ST = S*np.cumprod( np.exp(delta_St), axis=0)\n",
        "\n",
        "CTw = np.maximum(0, ST[-1] - K)\n",
        "C0w = np.exp(-r*T)*np.sum(CTw)/M\n",
        "\n",
        "sigma = np.sqrt( np.sum( (np.exp(-r*T)*CTw - C0w)**2) / (M-1) )\n",
        "SEw = sigma/np.sqrt(M)\n",
        "\n",
        "print(\"Call value is ${0} with SE +/- {1}\".format(np.round(C0w,2),np.round(SEw,3)))"
      ],
      "metadata": {
        "colab": {
          "base_uri": "https://localhost:8080/"
        },
        "id": "lpMHk0oD-LpR",
        "outputId": "01a0066d-9813-4e92-9d06-f1d306ca9208"
      },
      "execution_count": 20,
      "outputs": [
        {
          "output_type": "stream",
          "name": "stdout",
          "text": [
            "Call value is $3.77 with SE +/- 0.107\n"
          ]
        }
      ]
    },
    {
      "cell_type": "code",
      "source": [
        "x1 = np.linspace(C0-3*SE, C0-1*SE, 100)\n",
        "x2 = np.linspace(C0-1*SE, C0+1*SE, 100)\n",
        "x3 = np.linspace(C0+1*SE, C0+3*SE, 100)\n",
        "xw = np.linspace(C0w-3*SEw, C0w+3*SEw, 100)\n",
        "\n",
        "s1 = stats.norm.pdf(x1, C0, SE)\n",
        "s2 = stats.norm.pdf(x2, C0, SE)\n",
        "s3 = stats.norm.pdf(x3, C0, SE)\n",
        "sw = stats.norm.pdf(xw, C0w, SEw)\n",
        "\n",
        "plt.fill_between(x1, s1, color='tab:blue',label='> StDev')\n",
        "plt.fill_between(x2, s2, color='cornflowerblue',label='1 StDev')\n",
        "plt.fill_between(x3, s3, color='tab:blue')\n",
        "plt.plot(xw, sw, 'g-')\n",
        "plt.fill_between(xw, sw, alpha=0.2, color='tab:green', label='w/o Delta Variate')\n",
        "\n",
        "plt.plot([C0,C0],[0, max(s2)*1.1], 'k',\n",
        "        label='Theoretical Value')\n",
        "plt.plot([C0w,C0w],[0, max(s2)*1.1], color='tab:green',\n",
        "        label='Value w/o Delta Variate')\n",
        "plt.plot([market_value,market_value],[0, max(s2)*1.1], 'r',\n",
        "        label='Market Value')\n",
        "\n",
        "plt.ylabel(\"Probability\")\n",
        "plt.xlabel(\"Option Price\")\n",
        "plt.legend()\n",
        "plt.show()"
      ],
      "metadata": {
        "colab": {
          "base_uri": "https://localhost:8080/",
          "height": 449
        },
        "id": "cxiErafo_dp-",
        "outputId": "9f92979b-6b09-4f50-e1da-c989f7263ec9"
      },
      "execution_count": 25,
      "outputs": [
        {
          "output_type": "display_data",
          "data": {
            "text/plain": [
              "<Figure size 640x480 with 1 Axes>"
            ],
            "image/png": "[encoded data removed]"
          },
          "metadata": {}
        }
      ]
    },
    {
      "cell_type": "code",
      "source": [],
      "metadata": {
        "id": "nBSPNCt6_iXO"
      },
      "execution_count": null,
      "outputs": []
    }
  ]
}