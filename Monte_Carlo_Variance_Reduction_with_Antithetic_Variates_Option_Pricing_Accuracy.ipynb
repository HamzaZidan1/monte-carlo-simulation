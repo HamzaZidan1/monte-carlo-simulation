{
  "nbformat": 4,
  "nbformat_minor": 0,
  "metadata": {
    "colab": {
      "provenance": []
    },
    "kernelspec": {
      "name": "python3",
      "display_name": "Python 3"
    },
    "language_info": {
      "name": "python"
    }
  },
  "cells": [
    {
      "cell_type": "markdown",
      "source": [
        "## Antithetic Variates\n",
        "\n",
        "Let's write an option on asset $S_1$ and another option on asset $S_2$ that is perfectly negatively correlated with $S_1$ and which currently has the same price. $S_1$ and $S_2$ satisfy the following Stochastic Differential Equations:\n",
        "\n",
        "$\\large dS_{1,t} = rdS_{1,t}dt+\\sigma dS_{1,t}dz_t$\n",
        "\n",
        "$\\large dS_{2,t} = rdS_{2,t}dt-\\sigma dS_{2,t}dz_t$\n",
        "\n",
        "Since the price and volatility of the two assets are identical, so is the value of these two options. However, the variance of a portfolio pay-off containing both of these contracts is much less than the variance of the pay-off of each individual contract. In essence we are removing the large spike in probability distribution of a single contract pay-off. i.e. Basic Intuition: when one option pays out, the other does not.\n",
        "\n",
        "### Benefits of Antithetic Variance Reduction\n",
        "\n",
        "1. By using pairs $(\\epsilon_i, -\\epsilon_i)$ in the simulation we can now achieve a more accurate estimate from M pairs of $(C_{T,i}, \\bar{C}_{T,i})$ than from 2M of ${C}_{T,i}$.\n",
        "\n",
        "2. It is also computationally cheaper to generate the pair $(C_{T,i}, \\bar{C}_{T,i})$ than two instances of $C_{T,i}$\n",
        "\n",
        "3. Method also ensures that mean of the normally distributed samples $\\epsilon$ is exactly zero with helps improve the simulation"
      ],
      "metadata": {
        "id": "ZhuNYsq5tT2S"
      }
    },
    {
      "cell_type": "code",
      "execution_count": 1,
      "metadata": {
        "id": "2STyl73OiXwB"
      },
      "outputs": [],
      "source": [
        "#Import dependencies\n",
        "import math\n",
        "import numpy as np\n",
        "import pandas as pd\n",
        "import datetime\n",
        "import scipy.stats as stats\n",
        "import matplotlib.pyplot as plt"
      ]
    },
    {
      "cell_type": "markdown",
      "source": [
        "#Implementation of Antithetic Variate\n",
        "\n",
        "To implement an antithetic variate we create a hypothetical asset which is perfectly negatively correlated with the original asset."
      ],
      "metadata": {
        "id": "d7zHs-uai3H0"
      }
    },
    {
      "cell_type": "code",
      "source": [
        "# Inital derivative parameters\n",
        "S = 101.15 #Stock Price\n",
        "K = 98.01 #Strike Price\n",
        "vol = 0.0991 #Volatility (%)\n",
        "r = 0.015 #Risk-free rate (%)\n",
        "N = 10 #Number of time steps\n",
        "M = 1000 #Number of simulations\n",
        "\n",
        "market_value = 3.86 #market value of option\n",
        "T = ((datetime.date(2022,3,17)-datetime.date(2022,1,17)).days+1)/365 #time in years\n",
        "print(T)"
      ],
      "metadata": {
        "colab": {
          "base_uri": "https://localhost:8080/"
        },
        "id": "D-kXVD1cix32",
        "outputId": "e40beca2-c977-48f1-b6f4-97b94a0000f2"
      },
      "execution_count": 17,
      "outputs": [
        {
          "output_type": "stream",
          "name": "stdout",
          "text": [
            "0.1643835616438356\n"
          ]
        }
      ]
    },
    {
      "cell_type": "markdown",
      "source": [
        "##Slow Solution - Steps\n",
        "\n",
        "We break it down into slow discretised steps, although for the purposes of a European Call Option we do not have to take steps as the discretisation perfectly represents the SDE."
      ],
      "metadata": {
        "id": "juozw82EkVd5"
      }
    },
    {
      "cell_type": "code",
      "source": [
        "# Precompute constants\n",
        "dt = T/N\n",
        "nudt = (r - 0.5*vol**2)*dt\n",
        "volsdt = vol*np.sqrt(dt)\n",
        "lnS = np.log(S)\n",
        "\n",
        "# Standard Error Placeholders\n",
        "sum_CT = 0\n",
        "sum_CT2 = 0\n",
        "\n",
        "# Monte Carlo Method\n",
        "for i in range(M):\n",
        "    lnSt1 = lnS\n",
        "    lnSt2 = lnS\n",
        "    for j in range(N):\n",
        "        # Perfectly Negatively Correlated Assets\n",
        "        epsilon = np.random.normal()\n",
        "        lnSt1 = lnSt1 + nudt + volsdt*epsilon\n",
        "        lnSt2 = lnSt2 + nudt - volsdt*epsilon\n",
        "\n",
        "    ST1 = np.exp(lnSt1)\n",
        "    ST2 = np.exp(lnSt2)\n",
        "    CT = 0.5 * ( max(0, ST1 - K) + max(0, ST2 - K) )\n",
        "    sum_CT = sum_CT + CT\n",
        "    sum_CT2 = sum_CT2 + CT*CT\n",
        "\n",
        "# Compute Expectation and SE\n",
        "C0 = np.exp(-r*T)*sum_CT/M\n",
        "sigma = np.sqrt( (sum_CT2 - sum_CT*sum_CT/M)*np.exp(-2*r*T) / (M-1) )\n",
        "SE = sigma/np.sqrt(M)\n",
        "\n",
        "print(\"Call value is ${0} with SE +/- {1}\".format(np.round(C0,2),np.round(SE,2)))"
      ],
      "metadata": {
        "colab": {
          "base_uri": "https://localhost:8080/"
        },
        "id": "u1C2AfQgkPMn",
        "outputId": "4860ad78-d305-4810-f34b-ebc5853cb222"
      },
      "execution_count": 18,
      "outputs": [
        {
          "output_type": "stream",
          "name": "stdout",
          "text": [
            "Call value is $3.85 with SE +/- 0.03\n"
          ]
        }
      ]
    },
    {
      "cell_type": "markdown",
      "source": [
        "##Fast Solution - Vectorised\n",
        "\n",
        "For simple processes where the SDE does not need to be approximated like in the case of Brownian Motion used for calculating a European Option price, we can just simulate the variables at the final Time Step as Brownian Motion scales with time and independent increments."
      ],
      "metadata": {
        "id": "DxCOzVODpg-M"
      }
    },
    {
      "cell_type": "code",
      "source": [
        "#precompute constants\n",
        "N = 1\n",
        "dt = T/N\n",
        "nudt = (r - 0.5*vol**2)*dt\n",
        "volsdt = vol*np.sqrt(dt)\n",
        "lnS = np.log(S)\n",
        "\n",
        "#Monte Carlo Method\n",
        "Z = np.random.normal(size=(N, M))\n",
        "delta_lnSt1 = nudt + volsdt*Z\n",
        "delta_lnSt2 = nudt - volsdt*Z\n",
        "lnSt1 = lnS + np.cumsum(delta_lnSt1, axis=0)\n",
        "lnSt2 = lnS + np.cumsum(delta_lnSt2, axis=0)\n",
        "\n",
        "#Compute Expectation and SE\n",
        "ST1 = np.exp(lnSt1)\n",
        "ST2 = np.exp(lnSt2)\n",
        "CT = 0.5 * ( np.maximum(0, ST1[-1] - K) + np.maximum(0, ST2[-1] - K))\n",
        "C0 = np.exp(-r*T)*np.sum(CT)/M\n",
        "\n",
        "sigma = np.sqrt( np.sum( (CT - C0)**2) / (M-1) )\n",
        "SE = sigma/np.sqrt(M)\n",
        "\n",
        "print(\"Call value is ${0} with SE +/- {1}\".format(np.round(C0,2),np.round(SE,2)))"
      ],
      "metadata": {
        "colab": {
          "base_uri": "https://localhost:8080/"
        },
        "id": "qSJFDF2TncPu",
        "outputId": "c482fed4-b34e-437f-dd42-8b77502bffc1"
      },
      "execution_count": 21,
      "outputs": [
        {
          "output_type": "stream",
          "name": "stdout",
          "text": [
            "Call value is $3.86 with SE +/- 0.03\n"
          ]
        }
      ]
    },
    {
      "cell_type": "markdown",
      "source": [
        "##Compare without Anithetic Variate"
      ],
      "metadata": {
        "id": "83MGW8UfscZm"
      }
    },
    {
      "cell_type": "code",
      "source": [
        "#precompute constants\n",
        "N = 1\n",
        "dt = T/N\n",
        "nudt = (r - 0.5*vol**2)*dt\n",
        "volsdt = vol*np.sqrt(dt)\n",
        "lnS = np.log(S)\n",
        "\n",
        "# Monte Carlo Method\n",
        "Z = np.random.normal(size=(N, M))\n",
        "delta_lnSt = nudt + volsdt*Z\n",
        "lnSt = lnS + np.cumsum(delta_lnSt, axis=0)\n",
        "lnSt = np.concatenate( (np.full(shape=(1, M), fill_value=lnS), lnSt ) )\n",
        "\n",
        "# Compute Expectation and SE\n",
        "ST = np.exp(lnSt)\n",
        "CT = np.maximum(0, ST - K)\n",
        "C0w = np.exp(-r*T)*np.sum(CT[-1])/M\n",
        "\n",
        "sigma = np.sqrt( np.sum( (CT[-1] - C0)**2) / (M-1) )\n",
        "SEw = sigma/np.sqrt(M)\n",
        "\n",
        "print(\"Call value is ${0} with SE +/- {1}\".format(np.round(C0,2),np.round(SE,2)))"
      ],
      "metadata": {
        "colab": {
          "base_uri": "https://localhost:8080/"
        },
        "id": "j18zA7hiscGA",
        "outputId": "bb317bf3-2c54-49c0-9f28-485ed80dfc51"
      },
      "execution_count": 28,
      "outputs": [
        {
          "output_type": "stream",
          "name": "stdout",
          "text": [
            "Call value is $3.86 with SE +/- 0.03\n"
          ]
        }
      ]
    },
    {
      "cell_type": "code",
      "source": [
        "x1 = np.linspace(C0-3*SE, C0-1*SE, 100)\n",
        "x2 = np.linspace(C0-1*SE, C0+1*SE, 100)\n",
        "x3 = np.linspace(C0+1*SE, C0+3*SE, 100)\n",
        "xw = np.linspace(C0w-3*SEw, C0w+3*SEw, 100)\n",
        "\n",
        "s1 = stats.norm.pdf(x1, C0, SE)\n",
        "s2 = stats.norm.pdf(x2, C0, SE)\n",
        "s3 = stats.norm.pdf(x3, C0, SE)\n",
        "sw = stats.norm.pdf(xw, C0w, SEw)\n",
        "\n",
        "plt.fill_between(x1, s1, color='tab:blue',label='> StDev')\n",
        "plt.fill_between(x2, s2, color='cornflowerblue',label='1 StDev')\n",
        "plt.fill_between(x3, s3, color='tab:blue')\n",
        "plt.plot(xw, sw, 'g-')\n",
        "plt.fill_between(xw, sw, alpha=0.2, color='tab:green', label='w/o Antithetic')\n",
        "\n",
        "plt.plot([C0,C0],[0, max(s2)*1.1], 'k',\n",
        "        label='Theoretical Value')\n",
        "plt.plot([C0w,C0w],[0, max(s2)*1.1], color='tab:green',\n",
        "        label='Value w/o Antithetic')\n",
        "plt.plot([market_value,market_value],[0, max(s2)*1.1], 'r',\n",
        "        label='Market Value')\n",
        "\n",
        "plt.ylabel(\"Probability\")\n",
        "plt.xlabel(\"Option Price\")\n",
        "plt.legend()\n",
        "plt.show()"
      ],
      "metadata": {
        "colab": {
          "base_uri": "https://localhost:8080/",
          "height": 449
        },
        "id": "tNntZDHbr_YT",
        "outputId": "bfd99bb3-994f-4feb-fe06-dd7310c19f3b"
      },
      "execution_count": 25,
      "outputs": [
        {
          "output_type": "display_data",
          "data": {
            "text/plain": [
              "<Figure size 640x480 with 1 Axes>"
            ],
            "image/png": "[encoded data removed]"
          },
          "metadata": {}
        }
      ]
    },
    {
      "cell_type": "code",
      "source": [],
      "metadata": {
        "id": "njVHn4susyKZ"
      },
      "execution_count": null,
      "outputs": []
    }
  ]
}